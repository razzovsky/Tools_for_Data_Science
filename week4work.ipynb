{
 "cells": [
  {
   "cell_type": "markdown",
   "id": "1172bb00-215a-4cc4-9c66-7a2fe9e53e53",
   "metadata": {
    "tags": []
   },
   "source": [
    "<h1>My Jupyter Notebook on IBM Watson Studio</h1>"
   ]
  },
  {
   "cell_type": "markdown",
   "id": "46f52af7-9b41-46f6-9b6b-386407604a15",
   "metadata": {},
   "source": [
    "<b>Kamil Turkiewicz</b>"
   ]
  },
  {
   "cell_type": "markdown",
   "id": "0717009f-e524-4ab5-974c-0dca31eefab5",
   "metadata": {
    "tags": []
   },
   "source": [
    "Data Scientist"
   ]
  },
  {
   "cell_type": "markdown",
   "id": "15128b7a-3add-44c6-a633-ab347e234de0",
   "metadata": {},
   "source": [
    "<i>I am interested in data science because I have always been interested in analyzing human behavior. And also the possibility of their prediction. I would also like to be able to help people, e.g. by using AI in medicine.</i>"
   ]
  },
  {
   "cell_type": "markdown",
   "id": "de05fa6b-5182-4562-9cc2-b66461cd7605",
   "metadata": {},
   "source": [
    "Should display text: \"I love Coursera!\""
   ]
  },
  {
   "cell_type": "code",
   "execution_count": 7,
   "id": "720293a3-4e15-4379-8b0c-fd697513084b",
   "metadata": {},
   "outputs": [
    {
     "name": "stdout",
     "output_type": "stream",
     "text": [
      "I love Coursera!\n"
     ]
    }
   ],
   "source": [
    "print('I love Coursera!')"
   ]
  },
  {
   "cell_type": "markdown",
   "id": "c981c050-ca27-495a-8b72-f4a72ec85810",
   "metadata": {},
   "source": [
    "<hr>"
   ]
  },
  {
   "cell_type": "markdown",
   "id": "59ef6b0e-21eb-4857-8fc2-edc0706e8f3e",
   "metadata": {},
   "source": [
    "On <a href=\"www.coursera.org\">coursera.org</a> you can find courses:"
   ]
  },
  {
   "cell_type": "markdown",
   "id": "f14526cf-df0d-4b44-a543-8f58f6437a3c",
   "metadata": {},
   "source": [
    "<ul>\n",
    "<li>What is Data Science?</li>\n",
    "<li>Tools for Data Science</li>\n",
    "</ul>"
   ]
  },
  {
   "cell_type": "markdown",
   "id": "f8a9788d-9a76-4204-91fd-b377d0925600",
   "metadata": {},
   "source": [
    "<hr style=\"height: 10px; background: gray; border: 0px;\">"
   ]
  }
 ],
 "metadata": {
  "kernelspec": {
   "display_name": "Python 3 (ipykernel)",
   "language": "python",
   "name": "python3"
  },
  "language_info": {
   "codemirror_mode": {
    "name": "ipython",
    "version": 3
   },
   "file_extension": ".py",
   "mimetype": "text/x-python",
   "name": "python",
   "nbconvert_exporter": "python",
   "pygments_lexer": "ipython3",
   "version": "3.9.7"
  },
  "toc-showmarkdowntxt": true
 },
 "nbformat": 4,
 "nbformat_minor": 5
}
